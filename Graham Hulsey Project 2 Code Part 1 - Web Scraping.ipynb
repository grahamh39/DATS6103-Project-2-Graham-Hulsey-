{
 "cells": [
  {
   "cell_type": "markdown",
   "metadata": {},
   "source": [
    "# DATS 6103 - Graham Hulsey - Project 2 "
   ]
  },
  {
   "cell_type": "markdown",
   "metadata": {},
   "source": [
    "# Part 1 - Web Scraping"
   ]
  },
  {
   "cell_type": "markdown",
   "metadata": {},
   "source": [
    "In this project, I will be using bs4 to scrape news headlines from several major news outlets. Then, I will analyze the data to look for trends in which stories get covered, which outlets cover which stories, time trends, and how media reacts to certain events."
   ]
  },
  {
   "cell_type": "markdown",
   "metadata": {},
   "source": [
    "In this part, I will scrape headline text from news organizations, create a dataframe, and then save that dataframe  for future analysis. "
   ]
  },
  {
   "cell_type": "markdown",
   "metadata": {},
   "source": [
    "Here are the news outlets I will analyze, and their urls.\n",
    "\n",
    "1. New York Times https://www.nytimes.com/\n",
    "2. Washington Post https://www.washingtonpost.com/\n",
    "3. CNBC https://www.cnbc.com\n",
    "4. Al-Jazeera https://www.aljazeera.com/\n",
    "5. BBC https://bbc.com/news\n",
    "6. China Daily https://global.chinadaily.com.cn/\n",
    "7. Fox News https://www.foxnews.com/\n",
    "8. Mehr News https://en.mehrnews.com/\n",
    "9. The Atlantic https://www.theatlantic.com/\n",
    "10. Buzzfeed https://www.buzzfeed.com/\n",
    "11. New Yoker https://www.newyorker.com/\n",
    "12. Mother Jones https://www.motherjones.com/"
   ]
  },
  {
   "cell_type": "code",
   "execution_count": 1,
   "metadata": {},
   "outputs": [],
   "source": [
    "# Get imports \n",
    "from bs4 import BeautifulSoup\n",
    "import urllib.request as url\n",
    "import pandas as pd\n",
    "import requests\n",
    "from datetime import date"
   ]
  },
  {
   "cell_type": "code",
   "execution_count": 2,
   "metadata": {},
   "outputs": [],
   "source": [
    "# Create dictionary of outlets and their urls\n",
    "sources = {\"NYT\":\"https://www.nytimes.com/\",\"WaPo\":\"https://www.washingtonpost.com/\",\n",
    "          \"CNBC\":\"https://www.cnbc.com\",\"Al-Jazeera\":\"https://www.aljazeera.com/\",\n",
    "          \"BBC\":\"https://bbc.com/news\",\"China Daily\":\"https://global.chinadaily.com.cn/\",\n",
    "          \"Fox\":\"https://www.foxnews.com/\",\n",
    "          \"Mehr\":\"https://en.mehrnews.com/\",\"The Atlantic\":\"https://www.theatlantic.com/\",\n",
    "          \"Buzzfeed\":\"https://www.buzzfeed.com/\",\"New Yorker\":\"https://www.newyorker.com/\",\n",
    "          \"Mother Jones\":\"https://www.motherjones.com/\"}"
   ]
  },
  {
   "cell_type": "code",
   "execution_count": 3,
   "metadata": {},
   "outputs": [],
   "source": [
    "# Create a dictionary of empty lists to store text data\n",
    "scrapes = {\"NYT\":[],\"WaPo\":[],\n",
    "          \"CNBC\":[],\"Al-Jazeera\":[],\n",
    "          \"BBC\":[],\"China Daily\":[],\n",
    "          \"Fox\":[],\n",
    "          \"Mehr\":[],\"The Atlantic\":[],\n",
    "          \"Buzzfeed\":[],\"New Yorker\":[],\n",
    "          \"Mother Jones\":[]}"
   ]
  },
  {
   "cell_type": "markdown",
   "metadata": {},
   "source": [
    "Using BeautifulSoup, it's fairly easy to read each url and get all text using the html hyperlink (\"a\") marker."
   ]
  },
  {
   "cell_type": "code",
   "execution_count": 4,
   "metadata": {},
   "outputs": [],
   "source": [
    "for key in sources:\n",
    "    source_url = sources[key]\n",
    "    sauce = url.urlopen(source_url).read()\n",
    "    soup = BeautifulSoup(sauce, 'html5lib')\n",
    "    for paragraph in soup.find_all(\"a\"):\n",
    "        scrapes[key].append(paragraph.text)\n",
    "        "
   ]
  },
  {
   "cell_type": "markdown",
   "metadata": {},
   "source": [
    "To check that the scraper has worked, let's look at how many words from headlines were scraped."
   ]
  },
  {
   "cell_type": "code",
   "execution_count": 5,
   "metadata": {},
   "outputs": [
    {
     "name": "stdout",
     "output_type": "stream",
     "text": [
      "NYT: 173 links found\n",
      "WaPo: 449 links found\n",
      "CNBC: 458 links found\n",
      "Al-Jazeera: 128 links found\n",
      "BBC: 289 links found\n",
      "China Daily: 268 links found\n",
      "Fox: 842 links found\n",
      "Mehr: 244 links found\n",
      "The Atlantic: 306 links found\n",
      "Buzzfeed: 301 links found\n",
      "New Yorker: 276 links found\n",
      "Mother Jones: 222 links found\n"
     ]
    }
   ],
   "source": [
    "for j in sources.keys():\n",
    "    print(\"{0}: {1} links found\".format(j,len(scrapes[j])))"
   ]
  },
  {
   "cell_type": "code",
   "execution_count": 6,
   "metadata": {},
   "outputs": [],
   "source": [
    "# Concatenate all links into one body of text for each news source\n",
    "separator = \" \"\n",
    "for j in sources.keys():\n",
    "    text = []\n",
    "    for i in range(len(scrapes[j])):\n",
    "        if \"\\n\" not in scrapes[j][i] or \"  \" not in scrapes[j][i]:\n",
    "            text.append(scrapes[j][i])\n",
    "    body = separator.join(text)\n",
    "    scrapes[j] = body # append to correct list in dictionary"
   ]
  },
  {
   "cell_type": "markdown",
   "metadata": {},
   "source": [
    "Now let's take a look at the text data and see what it looks like."
   ]
  },
  {
   "cell_type": "code",
   "execution_count": 7,
   "metadata": {
    "scrolled": false
   },
   "outputs": [
    {
     "data": {
      "text/plain": [
       "\"Skip Navigation   Markets Pre-Markets U.S. Markets Currencies Cryptocurrency Futures & Commodities Bonds Funds & ETFs Business Economy Finance Health & Science Media Real Estate Energy Transportation Industrials Retail Wealth Life Small Business Investing Invest In You Personal Finance Fintech Financial Advisors Trading Nation Options Action ETF Street Buffett Archive Earnings Trader Talk Tech Cybersecurity Enterprise Internet Media Mobile Social Media Venture Capital Tech Guide Politics White House Policy Defense Congress 2020 Elections CNBC TV Live TV Live Audio Business Day Shows The News with Shepard Smith Entertainment Shows Full Episodes Latest Video Top Video CEO Interviews CNBC Documentaries CNBC World Digital Originals Live TV Schedule Watchlist PRO PRO News PRO Live Make It Select USA INTL SIGN IN  Markets Pre-Markets U.S. Markets Currencies Cryptocurrency Futures & Commodities Bonds Funds & ETFs Business Economy Finance Health & Science Media Real Estate Energy Transportation Industrials Retail Wealth Life Small Business Investing Invest In You Personal Finance Fintech Financial Advisors Trading Nation Options Action ETF Street Buffett Archive Earnings Trader Talk Tech Cybersecurity Enterprise Internet Media Mobile Social Media Venture Capital Tech Guide Politics White House Policy Defense Congress 2020 Elections CNBC TV Live TV Live Audio Business Day Shows The News with Shepard Smith Entertainment Shows Full Episodes Latest Video Top Video CEO Interviews CNBC Documentaries CNBC World Digital Originals Live TV Schedule Watchlist PRO PRO News PRO Live --------- --------- --------- --------- --------- Stock futures flat in overnight trading following a record-setting rally on promising vaccine news Coronavirus latest Outlook boost Pfizer surges Biden's Covid plan Stay-at-home crush Types of CDs Watch CNBC Stock futures flat in overnight trading following a record-setting rally on promising vaccine news Vaccine news gives a much-needed boost to the economic outlook  Stanley Druckenmiller says he wouldn't want to be short market, sees stock rotation continuing  Pfizer, BioNTech say Covid vaccine is more than 90% effective — 'great day for science and humanity' What a Biden White House could mean for Tesla Live TV Live Audio  Facebook removes network of pages tied to former Trump aide Steve Bannon  Cramer's lightning round: Don't bet against Palo Alto Networks  Ant's suspended IPO is a 'sign of the times' and 'not an isolated case'  What a Biden White House could mean for Tesla  Simon Property: Malls being treated 'unfairly' as El Paso mall shut amid Covid  Jim Cramer expects a 'multiday sell-off' in stay-at-home plays  Asia-Pacific stocks jump after overnight Dow surge following positive vaccine development  Jim Cramer recommends two cord-cutting plays after a pull back Monday  Wall Street firm just did something it hasn't done since last February  McDonald's 'McPlant' announcement spooked Beyond Meat investors, analyst says  Futures flat following a record-setting rally on promising vaccine news  U.S. Chamber of Commerce: Congress must pass Covid stimulus before inauguration  GOP Sens. Loeffler and Perdue demand that Georgia's secretary of state resign  CBS reality shows must now have 50% non-White casts, network says  Dow, S&P 500 hit record highs on vaccine progress — What experts are watching   Stocks making the biggest moves after hours: Beyond Meat, HD supply & more  Beyond Meat shares tank after its earnings fall short on weaker restaurant demand  Trump wants Wisconsin recount, but RNC shifts staff to Georgia for Senate fight  Vaccine news gives a much-needed boost to the economic outlook  David Bossie, named to lead Trump election challenge effort, has coronavirus  Travel firms see Pfizer vaccine news as 'welcomed step' toward return in demand  Uber surges to record as investors look past mounting losses and toward vaccine  These cyclical stocks surging on the vaccine news may have even more to go  Trump agency official says there is 'no transition in place' after Biden's win  Druckenmiller says he wouldn't want to be short market, sees rotation continuing  Retired CFO is a Covid-19 vaccine trial participant and is counting votes in GA  Health officials 'optimistic' Pfizer Covid vaccine could help end pandemic  Former Google CEO Eric Schmidt reportedly applied to become a citizen of Cyprus  Here's where to invest in 2021, financial advisors say  Why more coronavirus stimulus aid may wait until January  Market Movers U.S. allows emergency use of Eli Lilly's Covid antibody therapy  Barr tells DOJ to probe election fraud claims if they exist  Facebook removes network of pages tied to former Trump advisor Steve Bannon Salvador Rodriguez  Salvador Rodriguez Coronavirus updates: FDA clears Eli Lilly drug for emergency use; America tops 10 million cases CNBC.com staff  CNBC.com staff Fundstrat's Tom Lee says Monday's rally is just a 'baby step,' market could go 10% higher Jesse Pound  Jesse Pound FAA in final stages of Boeing 737 Max review; could approve as early as Nov. 18  Simon Property CEO says mall owners treated 'unfairly,' as El Paso location shut with Covid cases up Lauren Thomas  Lauren Thomas  McDonald's 'McPlant' announcement spooked Beyond Meat investors, analyst says  Biden said he'd forgive $10,000 in student debt for all borrowers. Will it actually happen?  Trump agency official privately says there is 'no transition in place' after Biden's victory Brian Schwartz  Brian Schwartz Trump wants a Wisconsin recount, but the RNC is shifting staff to Georgia for Senate fight Brian Schwartz  Brian Schwartz Theater chains AMC and Cinemark take big third-quarter losses during Covid pandemic Sarah Whitten  Sarah Whitten Wall Street firm just did something it hasn't done since last February: Turn positive on stocks Stephanie Landsman  Stephanie Landsman How student loan borrowers should prepare for Trump's forbearance period to end this December  Megan DeMatteo  Megan DeMatteo Stocks making the biggest moves after hours: Beyond Meat, HD supply, Simon Property Group & more Yun Li  Yun Li The iPhone 12 Mini is OK for small hands, but the Max is the really new thing Todd Haselton  Todd Haselton Pocketing PPP funds meant for struggling businesses VIDEO01:58 Uber surges to record as investors look past mounting losses and toward vaccine Ari Levy  Ari Levy Trump says Defense Secretary Mark Esper has been 'terminated' Amanda Macias  Amanda Macias This is the easiest way to grow wealth, says author who studied 177 self-made millionaires Tom Corley, Contributor  Tom Corley, Contributor Live TV Live Audio  Markets Market MOVERS Latest Market News Stocks making the biggest moves after hours: Beyond Meat, HD supply, Simon Property Group & more Yun Li Vaccine news gives a much-needed boost to the economic outlook Jeff Cox Dow surges more than 800 points in biggest rally in 5 months after positive Pfizer vaccine news Fred Imbert Yun Li Stock market live Monday: Dow soars 800 points, new intraday records, stay-at-home stocks fade CNBC.com staff WATCH LIVE ALL VIDEOS Joe Biden projected to defeat incumbent Donald Trump in the presidential election: NBC News Fed's financial stability report: Near-term risks remain high, mentions climate change for the first time Pfizer vaccine is going to be great for the U.S. economy: Trian Partners CEO Nelson Peltz Special Reports Trump says Defense Secretary Mark Esper has been 'terminated' Barr tells DOJ to probe election fraud claims if they exist Pfizer, BioNTech say Covid vaccine is more than 90% effective — 'great day for science and humanity' As Putin fails to congratulate Biden, experts predict what the result means for US-Russia relations Here's what President-elect Joe Biden wants to include in a coronavirus stimulus bill CNBC Select Want to maximize the rewards you earn shopping for Black Friday? Check out these 8 credit cards Alexandria White How student loan borrowers should prepare for Trump's forbearance period to end this December  Megan DeMatteo Get alerts when your personal information is stolen with IdentityForce credit monitoring services Alexandria White Get a one-time bonus up to $400 when you set up direct deposits at this brick-and-mortar bank Elizabeth Gravier Chase launches new bonus offer worth up to 70,000 miles on the United Explorer Card Alexandria White You can earn more interest when you put your money in a CD—here are the different types offered Elizabeth Gravier The average millennial has $27,251 in non-mortgage debt—here's how they compare to other generations Megan DeMatteo You could boost your Fidelity investments by $19,312 in 20 years just by using this cash-back card Megan DeMatteo Investing These cyclical stocks surging on the vaccine news have even more to go, according to Wall Street Maggie Fitzgerald Stanley Druckenmiller says he wouldn't want to be short market, sees stock rotation continuing Fred Imbert Fundstrat's Tom Lee says Monday's rally is just a 'baby step,' market could go 10% higher Jesse Pound JPMorgan says vaccine news could take the S&P 500 as high as 4,500 next year, or 24% from here Yun Li Mike Santoli’s market notes: Traders scramble to chase the vaccine-fueled rally Michael Santoli Josh Brown on the biggest lessons from his new investment book Kevin Stankiewicz Analyst says Pfizer set for 45% upside after strong vaccine trial results Thomas Franck E-brokers report outages as Dow jumps more than 800 points in vaccine rally  Maggie Fitzgerald Business News Beyond Meat shares tank as coronavirus weakens demand for plant-based meat at restaurants Amelia Lucas Travel companies cheer Pfizer Covid vaccine news as 'welcomed step' toward return in demand Seema Mody Health officials 'optimistic' Pfizer coronavirus vaccine could help 'effectively end' pandemic Berkeley Lovelace Jr. U.S. coronavirus cases cross 10 million as outbreaks spike across the nation Christine Wang President-elect Biden implores Americans to wear a mask: It's 'not a political statement' Will Feuer McDonald's unveils McPlant line, which includes meatless patty co-created by Beyond Meat Amelia Lucas Theater chains AMC and Cinemark take big third-quarter losses during Covid pandemic Sarah Whitten General Motors to add 3,000 jobs focused on electric vehicles Michael Wayland Tech What a Biden White House could mean for Tesla Lora Kolodny Facebook removes network of pages tied to former Trump advisor Steve Bannon Salvador Rodriguez The iPhone 12 Mini is OK for small hands, but the Max is the really new thing Todd Haselton People are complaining the Amazon Echo keeps asking them if they want to buy stuff — How to stop it Todd Haselton Disney shares jump almost 12% as good vaccine news provides hope for parks business Jessica Bursztynsky Uber surges to record as investors look past mounting losses and toward vaccine Ari Levy Former Google CEO Eric Schmidt reportedly applied to become a citizen of Cyprus Jessica Bursztynsky Zoom and other ‘stay-at-home’ stocks got crushed on the positive vaccine news Fred Imbert Politics GOP Sens. Loeffler and Perdue demand that Georgia's Republican secretary of state resign Christina Wilkie Trump wants a Wisconsin recount, but the RNC is shifting staff to Georgia for Senate fight Brian Schwartz David Bossie, who was named to lead Trump effort to challenge election results, has coronavirus Dan Mangan Trump agency official privately says there is 'no transition in place' after Biden's victory Brian Schwartz Trump says Defense Secretary Mark Esper has been 'terminated' Amanda Macias This map shows how Biden won back Pennsylvania in the 2020 election Jacob Pramuk HUD Secretary Ben Carson tests positive for coronavirus Kevin Breuninger Obamacare to face another Supreme Court test on Tuesday Tucker Higgins Personal Finance The US is closer than ever to a $15 federal minimum wage after Biden win  Carmen Reinicke Here's where to invest your money in 2021, financial advisors say Sarah O'Brien It could take until January before more coronavirus stimulus relief is finalized Lorie Konish Here's a decade-by-decade guide to retirement planning Carla Fried Biden said he'd forgive $10,000 in student debt for all borrowers. Will it actually happen?  Annie Nova There's no second $1,200 stimulus check yet. That's a text scam Lorie Konish What to tell your adult kids when planning your estate Sarah O'Brien Personal Finance 101: The complete guide to managing your money Carla Fried Make It Here's what President-elect Joe Biden wants to include in a coronavirus stimulus bill Alicia Adamczyk This retired CFO is a Covid-19 vaccine trial participant and is counting votes in Georgia Cory Stieg Kevin O'Leary: This is the 'most important part of a pitch' on 'Shark Tank' Taylor Locke Read Joe Biden's 2014 memo to staff about making time for family: 'This is very important to me' Jennifer Liu Advocates worry about an eviction crisis as 2021 approaches without a stimulus deal Alicia Adamczyk Here's exactly what to say in your thank-you email after a job interview Jennifer Liu Kamala Harris, Cori Bush and others who made history in the 2020 election Courtney Connley How Stacey Abrams, LaTosha Brown and other Black women changed the course of the 2020 election Courtney Connley Grow This is the easiest way to grow wealth, says author who studied 177 self-made millionaires Tom Corley, Contributor How an RV repairman makes $20,000 a month answering questions on JustAnswer Gili Malinsky Markets break records, Biden becomes president-elect: The headlines and your money Euny Hong 44% of Americans admit to financial infidelity: How to avoid a 'breakdown of trust' over money Ryan Ermey Apprenticeships can help you earn more money, new study finds Aditi Shrikant What a Joe Biden presidency could mean for your money Gili Malinsky Rent is down 25% in some cities: This map shows where costs have dropped most during coronavirus Gabriel Cortés The 5 most in-demand skills at America’s top start-ups, according to LinkedIn Shawn M. Carter CNBC Events  Subscribe to CNBC PRO Licensing & Reprints CNBC Councils Supply Chain Values CNBC on Peacock Advertise With Us Join the CNBC Panel Digital Products News Releases Closed Captioning Corrections About CNBC Internships Site Map Podcasts Ad Choices Careers Help Contact        Get In Touch Sign Up Now Privacy Policy Do Not Sell My Personal Information CA Notice Terms of Service A Division of NBCUniversal Market Data Terms of Use and Disclaimers \""
      ]
     },
     "execution_count": 7,
     "metadata": {},
     "output_type": "execute_result"
    }
   ],
   "source": [
    "scrapes[\"CNBC\"]"
   ]
  },
  {
   "cell_type": "markdown",
   "metadata": {},
   "source": [
    "Looks good. Now, we just need to create a proper dataframe from the data so that we can combine all data frames for proper analysis."
   ]
  },
  {
   "cell_type": "code",
   "execution_count": 8,
   "metadata": {},
   "outputs": [
    {
     "data": {
      "text/html": [
       "<div>\n",
       "<style scoped>\n",
       "    .dataframe tbody tr th:only-of-type {\n",
       "        vertical-align: middle;\n",
       "    }\n",
       "\n",
       "    .dataframe tbody tr th {\n",
       "        vertical-align: top;\n",
       "    }\n",
       "\n",
       "    .dataframe thead th {\n",
       "        text-align: right;\n",
       "    }\n",
       "</style>\n",
       "<table border=\"1\" class=\"dataframe\">\n",
       "  <thead>\n",
       "    <tr style=\"text-align: right;\">\n",
       "      <th></th>\n",
       "      <th>0</th>\n",
       "    </tr>\n",
       "  </thead>\n",
       "  <tbody>\n",
       "    <tr>\n",
       "      <th>NYT</th>\n",
       "      <td>Continue reading the main story Skip to conten...</td>\n",
       "    </tr>\n",
       "    <tr>\n",
       "      <th>WaPo</th>\n",
       "      <td>Skip to main content Election 2020 Coronavirus...</td>\n",
       "    </tr>\n",
       "    <tr>\n",
       "      <th>CNBC</th>\n",
       "      <td>Skip Navigation   Markets Pre-Markets U.S. Mar...</td>\n",
       "    </tr>\n",
       "    <tr>\n",
       "      <th>Al-Jazeera</th>\n",
       "      <td>Live play News Middle East Africa Asia US &amp; C...</td>\n",
       "    </tr>\n",
       "    <tr>\n",
       "      <th>BBC</th>\n",
       "      <td>Homepage Skip to content Accessibility Help BB...</td>\n",
       "    </tr>\n",
       "    <tr>\n",
       "      <th>China Daily</th>\n",
       "      <td>Global  Edition China Edition ASIA 中文 双语 Franç...</td>\n",
       "    </tr>\n",
       "    <tr>\n",
       "      <th>Fox</th>\n",
       "      <td>Fox News U.S. Politics Opinion Business Entert...</td>\n",
       "    </tr>\n",
       "    <tr>\n",
       "      <th>Mehr</th>\n",
       "      <td>Instagram  Twitter  facebook  RSS  Archive Me...</td>\n",
       "    </tr>\n",
       "    <tr>\n",
       "      <th>The Atlantic</th>\n",
       "      <td>Skip to content  Sign in  My Account  Subscrib...</td>\n",
       "    </tr>\n",
       "    <tr>\n",
       "      <th>Buzzfeed</th>\n",
       "      <td>Skip To Content Homepage Quizzes TV &amp; Movies S...</td>\n",
       "    </tr>\n",
       "    <tr>\n",
       "      <th>New Yorker</th>\n",
       "      <td>The New Yorker Newsletter Privacy Policy Sign ...</td>\n",
       "    </tr>\n",
       "    <tr>\n",
       "      <th>Mother Jones</th>\n",
       "      <td>Skip to main content \\n\\t\\t\\t\\t\\n\\n\\t\\t\\t \\n\\t...</td>\n",
       "    </tr>\n",
       "  </tbody>\n",
       "</table>\n",
       "</div>"
      ],
      "text/plain": [
       "                                                              0\n",
       "NYT           Continue reading the main story Skip to conten...\n",
       "WaPo          Skip to main content Election 2020 Coronavirus...\n",
       "CNBC          Skip Navigation   Markets Pre-Markets U.S. Mar...\n",
       "Al-Jazeera     Live play News Middle East Africa Asia US & C...\n",
       "BBC           Homepage Skip to content Accessibility Help BB...\n",
       "China Daily   Global  Edition China Edition ASIA 中文 双语 Franç...\n",
       "Fox           Fox News U.S. Politics Opinion Business Entert...\n",
       "Mehr           Instagram  Twitter  facebook  RSS  Archive Me...\n",
       "The Atlantic  Skip to content  Sign in  My Account  Subscrib...\n",
       "Buzzfeed      Skip To Content Homepage Quizzes TV & Movies S...\n",
       "New Yorker    The New Yorker Newsletter Privacy Policy Sign ...\n",
       "Mother Jones  Skip to main content \\n\\t\\t\\t\\t\\n\\n\\t\\t\\t \\n\\t..."
      ]
     },
     "execution_count": 8,
     "metadata": {},
     "output_type": "execute_result"
    }
   ],
   "source": [
    "# Create and display dataframe from dictionary\n",
    "scrapes_df = pd.DataFrame.from_dict(scrapes, orient=\"index\")\n",
    "scrapes_df"
   ]
  },
  {
   "cell_type": "code",
   "execution_count": 12,
   "metadata": {},
   "outputs": [
    {
     "name": "stdout",
     "output_type": "stream",
     "text": [
      "Is it AM or PM? PM\n"
     ]
    }
   ],
   "source": [
    "# Get AM/PM to keep track of time\n",
    "time_of_day = input(\"Is it AM or PM? \")"
   ]
  },
  {
   "cell_type": "code",
   "execution_count": 13,
   "metadata": {},
   "outputs": [],
   "source": [
    "# Save dataframe, and make the day/time the file name\n",
    "scrapes_df = scrapes_df.rename(columns={0:str(date.today())+\" \" + str(time_of_day)})"
   ]
  },
  {
   "cell_type": "markdown",
   "metadata": {},
   "source": [
    "Let's take a look at the final data frame."
   ]
  },
  {
   "cell_type": "code",
   "execution_count": 14,
   "metadata": {},
   "outputs": [
    {
     "data": {
      "text/html": [
       "<div>\n",
       "<style scoped>\n",
       "    .dataframe tbody tr th:only-of-type {\n",
       "        vertical-align: middle;\n",
       "    }\n",
       "\n",
       "    .dataframe tbody tr th {\n",
       "        vertical-align: top;\n",
       "    }\n",
       "\n",
       "    .dataframe thead th {\n",
       "        text-align: right;\n",
       "    }\n",
       "</style>\n",
       "<table border=\"1\" class=\"dataframe\">\n",
       "  <thead>\n",
       "    <tr style=\"text-align: right;\">\n",
       "      <th></th>\n",
       "      <th>2020-11-09 PM</th>\n",
       "    </tr>\n",
       "  </thead>\n",
       "  <tbody>\n",
       "    <tr>\n",
       "      <th>NYT</th>\n",
       "      <td>Continue reading the main story Skip to conten...</td>\n",
       "    </tr>\n",
       "    <tr>\n",
       "      <th>WaPo</th>\n",
       "      <td>Skip to main content Election 2020 Coronavirus...</td>\n",
       "    </tr>\n",
       "    <tr>\n",
       "      <th>CNBC</th>\n",
       "      <td>Skip Navigation   Markets Pre-Markets U.S. Mar...</td>\n",
       "    </tr>\n",
       "    <tr>\n",
       "      <th>Al-Jazeera</th>\n",
       "      <td>Live play News Middle East Africa Asia US &amp; C...</td>\n",
       "    </tr>\n",
       "    <tr>\n",
       "      <th>BBC</th>\n",
       "      <td>Homepage Skip to content Accessibility Help BB...</td>\n",
       "    </tr>\n",
       "    <tr>\n",
       "      <th>China Daily</th>\n",
       "      <td>Global  Edition China Edition ASIA 中文 双语 Franç...</td>\n",
       "    </tr>\n",
       "    <tr>\n",
       "      <th>Fox</th>\n",
       "      <td>Fox News U.S. Politics Opinion Business Entert...</td>\n",
       "    </tr>\n",
       "    <tr>\n",
       "      <th>Mehr</th>\n",
       "      <td>Instagram  Twitter  facebook  RSS  Archive Me...</td>\n",
       "    </tr>\n",
       "    <tr>\n",
       "      <th>The Atlantic</th>\n",
       "      <td>Skip to content  Sign in  My Account  Subscrib...</td>\n",
       "    </tr>\n",
       "    <tr>\n",
       "      <th>Buzzfeed</th>\n",
       "      <td>Skip To Content Homepage Quizzes TV &amp; Movies S...</td>\n",
       "    </tr>\n",
       "    <tr>\n",
       "      <th>New Yorker</th>\n",
       "      <td>The New Yorker Newsletter Privacy Policy Sign ...</td>\n",
       "    </tr>\n",
       "    <tr>\n",
       "      <th>Mother Jones</th>\n",
       "      <td>Skip to main content \\n\\t\\t\\t\\t\\n\\n\\t\\t\\t \\n\\t...</td>\n",
       "    </tr>\n",
       "  </tbody>\n",
       "</table>\n",
       "</div>"
      ],
      "text/plain": [
       "                                                  2020-11-09 PM\n",
       "NYT           Continue reading the main story Skip to conten...\n",
       "WaPo          Skip to main content Election 2020 Coronavirus...\n",
       "CNBC          Skip Navigation   Markets Pre-Markets U.S. Mar...\n",
       "Al-Jazeera     Live play News Middle East Africa Asia US & C...\n",
       "BBC           Homepage Skip to content Accessibility Help BB...\n",
       "China Daily   Global  Edition China Edition ASIA 中文 双语 Franç...\n",
       "Fox           Fox News U.S. Politics Opinion Business Entert...\n",
       "Mehr           Instagram  Twitter  facebook  RSS  Archive Me...\n",
       "The Atlantic  Skip to content  Sign in  My Account  Subscrib...\n",
       "Buzzfeed      Skip To Content Homepage Quizzes TV & Movies S...\n",
       "New Yorker    The New Yorker Newsletter Privacy Policy Sign ...\n",
       "Mother Jones  Skip to main content \\n\\t\\t\\t\\t\\n\\n\\t\\t\\t \\n\\t..."
      ]
     },
     "execution_count": 14,
     "metadata": {},
     "output_type": "execute_result"
    }
   ],
   "source": [
    "scrapes_df"
   ]
  },
  {
   "cell_type": "markdown",
   "metadata": {},
   "source": [
    "Great. Time to move on to the analysis!"
   ]
  }
 ],
 "metadata": {
  "kernelspec": {
   "display_name": "Python 3",
   "language": "python",
   "name": "python3"
  },
  "language_info": {
   "codemirror_mode": {
    "name": "ipython",
    "version": 3
   },
   "file_extension": ".py",
   "mimetype": "text/x-python",
   "name": "python",
   "nbconvert_exporter": "python",
   "pygments_lexer": "ipython3",
   "version": "3.7.6"
  }
 },
 "nbformat": 4,
 "nbformat_minor": 4
}
